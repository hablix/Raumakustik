{
  "nbformat": 4,
  "nbformat_minor": 0,
  "metadata": {
    "colab": {
      "name": "BerechnungRaumakustik.ipynb",
      "provenance": [],
      "collapsed_sections": [],
      "authorship_tag": "ABX9TyPRVhEyY1y40wLqQpcilPDL",
      "include_colab_link": true
    },
    "kernelspec": {
      "name": "python3",
      "display_name": "Python 3"
    },
    "language_info": {
      "name": "python"
    }
  },
  "cells": [
    {
      "cell_type": "markdown",
      "metadata": {
        "id": "view-in-github",
        "colab_type": "text"
      },
      "source": [
        "<a href=\"https://colab.research.google.com/github/hablix/Raumakustik/blob/main/BerechnungRaumakustik.ipynb\" target=\"_parent\"><img src=\"https://colab.research.google.com/assets/colab-badge.svg\" alt=\"Open In Colab\"/></a>"
      ]
    },
    {
      "cell_type": "markdown",
      "metadata": {
        "id": "nC1Pw6TXfIfI"
      },
      "source": [
        "\n",
        "# Berechnungsskript für Raumakustikprojekt\n",
        "\n",
        "Hannes Bischoff\n",
        "\n"
      ]
    },
    {
      "cell_type": "code",
      "metadata": {
        "colab": {
          "base_uri": "https://localhost:8080/"
        },
        "id": "wDJrXyG-cUmN",
        "outputId": "86bf8f11-e952-419d-c110-756cb0723ef6"
      },
      "source": [
        "print('Sitze pro Reihe = s; Anzahl Reihen = r')\n",
        "r=25\n",
        "s=32\n",
        "P=r*s\n",
        "P"
      ],
      "execution_count": 1,
      "outputs": [
        {
          "output_type": "stream",
          "name": "stdout",
          "text": [
            "Sitze pro Reihe = s; Anzahl Reihen = r\n"
          ]
        },
        {
          "output_type": "execute_result",
          "data": {
            "text/plain": [
              "800"
            ]
          },
          "metadata": {},
          "execution_count": 1
        }
      ]
    },
    {
      "cell_type": "code",
      "metadata": {
        "colab": {
          "base_uri": "https://localhost:8080/"
        },
        "id": "BBEM2e_UjUfZ",
        "outputId": "3e1ebf66-6a49-4794-e0a7-5be741cc421c"
      },
      "source": [
        "print('Länge, Breite')\n",
        "lgest=r*0.9\n",
        "bgest=s*0.55\n",
        "lgest,bgest"
      ],
      "execution_count": 2,
      "outputs": [
        {
          "output_type": "stream",
          "name": "stdout",
          "text": [
            "Länge, Breite\n"
          ]
        },
        {
          "output_type": "execute_result",
          "data": {
            "text/plain": [
              "(22.5, 17.6)"
            ]
          },
          "metadata": {},
          "execution_count": 2
        }
      ]
    },
    {
      "cell_type": "code",
      "metadata": {
        "colab": {
          "base_uri": "https://localhost:8080/"
        },
        "id": "X0HNC1-uk1Vy",
        "outputId": "1fa64c09-68a4-49b2-db7f-b2ea6f01d819"
      },
      "source": [
        "print('Grundfläche')\n",
        "l = lgest + 2+ 6\n",
        "b = bgest + 1 +1\n",
        "A = l*b\n",
        "l,b,A"
      ],
      "execution_count": 3,
      "outputs": [
        {
          "output_type": "stream",
          "name": "stdout",
          "text": [
            "Grundfläche\n"
          ]
        },
        {
          "output_type": "execute_result",
          "data": {
            "text/plain": [
              "(30.5, 19.6, 597.8000000000001)"
            ]
          },
          "metadata": {},
          "execution_count": 3
        }
      ]
    },
    {
      "cell_type": "code",
      "metadata": {
        "colab": {
          "base_uri": "https://localhost:8080/"
        },
        "id": "3ju-AfuXls2e",
        "outputId": "30eb13ed-58d8-4421-b72f-07c0e04dca78"
      },
      "source": [
        "print('Volumenkennzahl nachNutzungsart')\n",
        "vk=[3,4,5,7] #3..5 oder 4...7\n",
        "vk"
      ],
      "execution_count": 4,
      "outputs": [
        {
          "output_type": "stream",
          "name": "stdout",
          "text": [
            "Volumenkennzahl nachNutzungsart\n"
          ]
        },
        {
          "output_type": "execute_result",
          "data": {
            "text/plain": [
              "[3, 4, 5, 7]"
            ]
          },
          "metadata": {},
          "execution_count": 4
        }
      ]
    },
    {
      "cell_type": "code",
      "metadata": {
        "id": "xE9_P8i1oPaF"
      },
      "source": [
        "def sm(a,b):\n",
        "  return [a * x for x in b]"
      ],
      "execution_count": 5,
      "outputs": []
    },
    {
      "cell_type": "code",
      "metadata": {
        "colab": {
          "base_uri": "https://localhost:8080/"
        },
        "id": "K8a8LEOumsfb",
        "outputId": "061fcba0-d224-4cf0-9cb9-48d9e7e48eb0"
      },
      "source": [
        "print('gewünschtesraumvolumen')\n",
        "V = [P * x for x in vk]\n",
        "V"
      ],
      "execution_count": 6,
      "outputs": [
        {
          "output_type": "stream",
          "name": "stdout",
          "text": [
            "gewünschtesraumvolumen\n"
          ]
        },
        {
          "output_type": "execute_result",
          "data": {
            "text/plain": [
              "[2400, 3200, 4000, 5600]"
            ]
          },
          "metadata": {},
          "execution_count": 6
        }
      ]
    },
    {
      "cell_type": "code",
      "metadata": {
        "colab": {
          "base_uri": "https://localhost:8080/"
        },
        "id": "PoKuNQCq0CuM",
        "outputId": "183e8bec-e7c6-4785-a156-bd9ec9b326ad"
      },
      "source": [
        "print('Querschnitt / Volumenverlust durch gestühl')\n",
        "Qgest = lgest*4*0.5\n",
        "Vgest= Qgest*b\n",
        "Qgest,Vgest"
      ],
      "execution_count": 7,
      "outputs": [
        {
          "output_type": "stream",
          "name": "stdout",
          "text": [
            "Querschnitt / Volumenverlust durch gestühl\n"
          ]
        },
        {
          "output_type": "execute_result",
          "data": {
            "text/plain": [
              "(45.0, 882.0000000000001)"
            ]
          },
          "metadata": {},
          "execution_count": 7
        }
      ]
    },
    {
      "cell_type": "code",
      "metadata": {
        "colab": {
          "base_uri": "https://localhost:8080/"
        },
        "id": "96VzOg_5p44K",
        "outputId": "04f7f000-4a71-4c77-d9b3-9feeb151795e"
      },
      "source": [
        "print('Resultiernde Deckenhöhe')\n",
        "h = [(v+Vgest)/A for v in V]\n",
        "h"
      ],
      "execution_count": 8,
      "outputs": [
        {
          "output_type": "stream",
          "name": "stdout",
          "text": [
            "Resultiernde Deckenhöhe\n"
          ]
        },
        {
          "output_type": "execute_result",
          "data": {
            "text/plain": [
              "[5.490130478420876, 6.82837069253931, 8.166610906657745, 10.843091334894613]"
            ]
          },
          "metadata": {},
          "execution_count": 8
        }
      ]
    },
    {
      "cell_type": "code",
      "metadata": {
        "colab": {
          "base_uri": "https://localhost:8080/"
        },
        "id": "u94t6Rnazb5-",
        "outputId": "a9131f6c-b0b7-4fb4-aa12-3a31aa078b5c"
      },
      "source": [
        "print('Wandflächen')\n",
        "Av = b*h[1]\n",
        "Arl = l*h[1]-Qgest\n",
        "Ah=b*h[1]-b*4\n",
        "Adecke= l*b\n",
        "Aboden_pult = b*8\n",
        "lgest_diagonal=((lgest)**2+4**2)**(1/2)\n",
        "Agest=lgest_diagonal*b\n",
        "Av,Arl,Ah,'Decke:',Adecke,'boden:',Aboden_pult,lgest_diagonal,Agest"
      ],
      "execution_count": 9,
      "outputs": [
        {
          "output_type": "stream",
          "name": "stdout",
          "text": [
            "Wandflächen\n"
          ]
        },
        {
          "output_type": "execute_result",
          "data": {
            "text/plain": [
              "(133.8360655737705,\n",
              " 163.26530612244895,\n",
              " 55.43606557377049,\n",
              " 'Decke:',\n",
              " 597.8000000000001,\n",
              " 'boden:',\n",
              " 156.8,\n",
              " 22.85278976405288,\n",
              " 447.9146793754365)"
            ]
          },
          "metadata": {},
          "execution_count": 9
        }
      ]
    },
    {
      "cell_type": "code",
      "metadata": {
        "colab": {
          "base_uri": "https://localhost:8080/"
        },
        "id": "IXdZg_pEGvrn",
        "outputId": "73ee85e8-d38c-46d4-d86d-b138637a0dd1"
      },
      "source": [
        "Agest+Aboden_pult"
      ],
      "execution_count": 10,
      "outputs": [
        {
          "output_type": "execute_result",
          "data": {
            "text/plain": [
              "604.7146793754365"
            ]
          },
          "metadata": {},
          "execution_count": 10
        }
      ]
    },
    {
      "cell_type": "code",
      "metadata": {
        "colab": {
          "base_uri": "https://localhost:8080/"
        },
        "id": "t3O9qJrMa8Jp",
        "outputId": "389e6199-2e25-4246-d089-2c2a554cf6c6"
      },
      "source": [
        "pip install pytexit"
      ],
      "execution_count": 11,
      "outputs": [
        {
          "output_type": "stream",
          "name": "stdout",
          "text": [
            "Collecting pytexit\n",
            "  Downloading pytexit-0.3.4-py2.py3-none-any.whl (24 kB)\n",
            "Requirement already satisfied: six in /usr/local/lib/python3.7/dist-packages (from pytexit) (1.15.0)\n",
            "Installing collected packages: pytexit\n",
            "Successfully installed pytexit-0.3.4\n"
          ]
        }
      ]
    },
    {
      "cell_type": "code",
      "metadata": {
        "id": "vjozW_2f-omF"
      },
      "source": [
        "# convert experssions to latex strings\n",
        "# latex string to png http://latex2png.com/\n",
        "\n",
        "# install packet if necessary\n",
        "#pip install pytexit\n",
        "#from pytexit import py2tex\n",
        "#input1 = input()\n",
        "#print(input1)\n",
        "#py2tex(input1)"
      ],
      "execution_count": 13,
      "outputs": []
    },
    {
      "cell_type": "code",
      "metadata": {
        "id": "6w5gdkN0DtMR"
      },
      "source": [
        "x=[]\n",
        "y=[]"
      ],
      "execution_count": 14,
      "outputs": []
    },
    {
      "cell_type": "code",
      "metadata": {
        "colab": {
          "base_uri": "https://localhost:8080/"
        },
        "id": "Fc6wSeeHTMSb",
        "outputId": "a21e9acd-bfc8-408e-ec94-f205885c797b"
      },
      "source": [
        "import math\n",
        "\n",
        "faktor_skizze = l/0.153\n",
        "c_20 = 343\n",
        "s_skizze = float(input('laufzeit in skize in cm'))/100\n",
        "s = faktor_skizze * s_skizze\n",
        "t = s / c_20\n",
        "\n",
        "alpha = float(input('absorbtionswert'))\n",
        "\n",
        "dL_r= 20*math.log(s,10)\n",
        "dL_a = 10*math.log(1-alpha,10)\n",
        "x.append(t)\n",
        "y.append(dL_r+dL_a)\n",
        "\n",
        "print('länge=',s,'m  t=',t*1000,'ms')\n",
        "print('dL_r=',dL_r,'dB  dL_a=',dL_a,'dB')\n",
        "print('x=',x,'ms   y=',y,'dB')\n",
        "\n",
        "\n"
      ],
      "execution_count": 15,
      "outputs": [
        {
          "output_type": "stream",
          "name": "stdout",
          "text": [
            "laufzeit in skize in cm4\n",
            "absorbtionswert0\n",
            "länge= 7.973856209150328 m  t= 23.247394195773552 ms\n",
            "dL_r= 18.03336799714299 dB  dL_a= 0.0 dB\n",
            "x= [0.02324739419577355] ms   y= [18.03336799714299] dB\n"
          ]
        }
      ]
    },
    {
      "cell_type": "code",
      "metadata": {
        "id": "j6MLxrjdRxim"
      },
      "source": [
        "s_s=[0.55,4.1,7.9,5.1,13.5,8.2,4.3,16.6,8.3,6.5,10.4]\n",
        "s_d=[0,0,0.25,0.75,0.25,0.50,0.25,0.25,0.25,0.25,0.25]\n",
        "s_d2=[0,0,0,0,0,0,0,0.25,0.75,0.25,0.5]\n",
        "\n",
        "#s_s=[0.55,7.5,11.4,11.8,11.6,9.5]\n",
        "#s_d=[0,0,0.25,0.75,0.25,0.5]\n",
        "#s_d2=[0,0,0,0,0,0]\n",
        "\n",
        "#s_s=[0.55,11.8,15.2,13.0,16.2,12.8,14.7]\n",
        "#s_d=[0,0,0.25,0.75,0.25,0.5,0.25]\n",
        "#s_d2=[0,0,0,0,0,0,0]\n",
        "\n",
        "x = [s * faktor_skizze / c_20 /100  for s in s_s]\n",
        "y_r=[20 * math.log(s * faktor_skizze / 100,10)  for s in s_s]\n",
        "y_a=[10 * math.log(1-s,10)  for s in s_d]\n",
        "y_a2=[10 * math.log(1-s,10)  for s in s_d2]\n",
        "y= [ r - a - a2 for r, a, a2 in zip(y_r,y_a,y_a2)]"
      ],
      "execution_count": 16,
      "outputs": []
    },
    {
      "cell_type": "code",
      "metadata": {
        "colab": {
          "base_uri": "https://localhost:8080/",
          "height": 369
        },
        "id": "ipI0zJmxBu3a",
        "outputId": "85329cda-33d6-4b9c-f2f3-8c01bc8a33c1"
      },
      "source": [
        "import matplotlib.pyplot as plt\n",
        "import numpy as np\n",
        "\n",
        "\n",
        "offset = int(input('offset dB'))\n",
        "\n",
        "x_o = [1000* x_i for x_i in x]\n",
        "y_o = [offset - y_i for y_i in y_r]\n",
        "y_o2 = [offset - y_i for y_i in y]\n",
        "\n",
        "\n",
        "fig, ax = plt.subplots()\n",
        "ax.stem(x_o, y_o, markerfmt=' ')\n",
        "ax.stem(x_o, y_o2, markerfmt='o')\n",
        "\n",
        "plt.xlim([0, 110])\n",
        "plt.show()"
      ],
      "execution_count": 17,
      "outputs": [
        {
          "name": "stdout",
          "output_type": "stream",
          "text": [
            "offset dB65\n"
          ]
        },
        {
          "output_type": "stream",
          "name": "stderr",
          "text": [
            "/usr/local/lib/python3.7/dist-packages/ipykernel_launcher.py:13: UserWarning: In Matplotlib 3.3 individual lines on a stem plot will be added as a LineCollection instead of individual lines. This significantly improves the performance of a stem plot. To remove this warning and switch to the new behaviour, set the \"use_line_collection\" keyword argument to True.\n",
            "  del sys.path[0]\n",
            "/usr/local/lib/python3.7/dist-packages/ipykernel_launcher.py:14: UserWarning: In Matplotlib 3.3 individual lines on a stem plot will be added as a LineCollection instead of individual lines. This significantly improves the performance of a stem plot. To remove this warning and switch to the new behaviour, set the \"use_line_collection\" keyword argument to True.\n",
            "  \n"
          ]
        },
        {
          "output_type": "display_data",
          "data": {
            "image/png": "[encoded data removed]",
            "text/plain": [
              "<Figure size 432x288 with 1 Axes>"
            ]
          },
          "metadata": {
            "needs_background": "light"
          }
        }
      ]
    }
  ]
}